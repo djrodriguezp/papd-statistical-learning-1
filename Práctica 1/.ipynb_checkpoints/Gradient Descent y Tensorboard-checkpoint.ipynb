{
 "cells": [
  {
   "cell_type": "markdown",
   "metadata": {},
   "source": [
    "# Práctica 1 - Gradient Descent y Tensorboard"
   ]
  },
  {
   "cell_type": "markdown",
   "metadata": {},
   "source": [
    "Para este experimento utilizaremos un dataset de ventas de casas con el fin de identificar la relación entre la variables precio de casa y la calificación de calidad de la misma.\n",
    "\n",
    "Utilizaremos Tensorflow para la definición del modelo, Tensorboard para analizar el error del modelo entre iteraciones y la técnica de gradiente descendente para disminuir el error lo mejor posible entre cada iteración."
   ]
  },
  {
   "cell_type": "code",
   "execution_count": 2,
   "metadata": {},
   "outputs": [],
   "source": [
    "import numpy as np\n",
    "import tensorflow as tf\n",
    "import datetime\n",
    "import matplotlib.pyplot as plt\n",
    "\n",
    "#habilitamos compatibilidad para TensorFlow v1\n",
    "if tf.__version__.startswith(\"2.\"):\n",
    "  import tensorflow.compat.v1 as tf\n",
    "  tf.compat.v1.disable_v2_behavior()\n",
    "  tf.compat.v1.disable_eager_execution()"
   ]
  },
  {
   "cell_type": "code",
   "execution_count": 3,
   "metadata": {},
   "outputs": [],
   "source": [
    "#carga de datos\n",
    "dataset = np.load('data/proyecto_training_data.npy')\n",
    "\n",
    "#escalamos los valores las variables SalePrice en 1000 para que los cálculos del error no sean elevados duratne el entrenamiento\n",
    "dataset[0:, 0]/= 1000 "
   ]
  },
  {
   "cell_type": "markdown",
   "metadata": {},
   "source": [
    "Una vez cargado el dataset, seleccionamos la variable SalesPrice como la variable dependiente y la variable OverallQuall como la variable explicativa.\n",
    "\n",
    "Al realizar una gráfica de relación entre estas variables se puede identificar que existe una relación lineal positiva entre estas variables ya que, al incrementar la calidad de la casa, incrementa su precio."
   ]
  },
  {
   "cell_type": "code",
   "execution_count": 4,
   "metadata": {},
   "outputs": [
    {
     "data": {
      "image/png": "[encoded data removed]",
      "text/plain": [
       "<Figure size 432x288 with 1 Axes>"
      ]
     },
     "metadata": {
      "needs_background": "light"
     },
     "output_type": "display_data"
    }
   ],
   "source": [
    "x = dataset[:,1].reshape(-1,1)\n",
    "y = dataset[:,0].reshape(-1,1)\n",
    "\n",
    "plt.scatter(x, y)\n",
    "plt.title(\"Relación SalesPrice vs OverallQual \", FontSize=13)\n",
    "plt.show()"
   ]
  },
  {
   "cell_type": "markdown",
   "metadata": {},
   "source": [
    "### Definición del Modelo\n",
    "\n",
    "Ya que se identificó una relación lineal entre las variables, se definirá regresión lineal donde la hipótesis es el precio de la casa y sus pesos serán la pendiente de la recta y su intercepto.\n",
    "\n",
    "###  <center>$h(x)= mx + b$</center>\n",
    "\n",
    "Para la definición del modelo se utilizará tensorflow y este será calculado por medio de operaciones vectorizadas definidas por grafos, utilizando la técnica de gradiente descendente para optimizar la busqueda de los coeficientes del modelo."
   ]
  },
  {
   "cell_type": "code",
   "execution_count": 20,
   "metadata": {},
   "outputs": [],
   "source": [
    "def linear_regression(x, y , epochs, lr, print_interval):\n",
    "    tf.reset_default_graph()\n",
    "    with tf.name_scope(\"Pesos_m_b\"):\n",
    "        weights = tf.Variable(name=\"Weights\", initial_value=tf.zeros((2,1),tf.float64))\n",
    "        x = tf.concat([x,tf.ones_like(x)], axis = 1)\n",
    "    with tf.name_scope(\"Evaluar_Hipotesis\"):\n",
    "        y_hat = tf.matmul(x,weights)\n",
    "    with tf.name_scope(\"Calcular_Error\"):\n",
    "        error = (0.5*tf.reduce_mean(tf.math.square(y - y_hat)))\n",
    "    with tf.name_scope(\"Calcular_Gradientes\"):\n",
    "        gradients = tf.gradients(error ,weights)\n",
    "    with tf.name_scope(\"Actualizar_Pesos\"):\n",
    "        update_weights = tf.assign(weights,(tf.add(weights,tf.scalar_mul(-lr,gradients[0]))))\n",
    "\n",
    "    error_summary = tf.summary.scalar(name='Error vs Epochs', tensor=error)\n",
    "\n",
    "    with tf.Session() as session:\n",
    "        curr_datetime = datetime.datetime.now().strftime('%Y%m%d_%H%M%S')\n",
    "        writer = tf.summary.FileWriter(\"./tensorboard_logs/\"+curr_datetime+\"_lr=\"+str(lr)+\"_epochs=\"+str(epochs),session.graph)\n",
    "        session.run(tf.global_variables_initializer())\n",
    "        for epoch in range(0,epochs):\n",
    "            if ((epoch+1) % print_interval) == 0:\n",
    "                print(\"epoch:\"+str(epoch+1)+\" error: \"+str(session.run(error)))\n",
    "      \n",
    "            writer.add_summary(session.run(error_summary), epoch)\n",
    "            session.run(update_weights)\n",
    "\n",
    "\n",
    "        writer.close()\n",
    "    session.close()\n"
   ]
  },
  {
   "cell_type": "markdown",
   "metadata": {},
   "source": [
    "### Grafo del Modelo\n",
    "<img alt=\"Grafo del Modelo\" src=\"images/graph.png\" />\n",
    "\n",
    "Por medio de Tensorboard es posible obtener la definición gráfica de las operaciones realizadas por grafos. Para simplicidad explicativa del modelo se han agrupado algunas operaciones de grafos con name_scopes."
   ]
  },
  {
   "cell_type": "markdown",
   "metadata": {},
   "source": [
    "### Experimentando con epochs y learning rate \n",
    "\n",
    "Ya se ha definido la función del modelo, nos falta encontrar cual es el learning rate y la cantidad de iteraciones que nos brindarán el error más bajo. Para esto realizaremos un set de experimentos variando estos 2 parámetros y se estará monitoreando el comportamiento del error por medio de Tensorboard.\n",
    "\n",
    "Comenzaremos con un lr de 0.8 y 100 epochs y a partir de estos resultados iremos verificando si es necesario realizar cambio en alguno de los parámetros."
   ]
  },
  {
   "cell_type": "code",
   "execution_count": 9,
   "metadata": {},
   "outputs": [
    {
     "name": "stdout",
     "output_type": "stream",
     "text": [
      "epoch:10 error: 1.3035551349504527e+31\n",
      "epoch:20 error: 9.057111885259299e+60\n",
      "epoch:30 error: 6.292888847023965e+90\n",
      "epoch:40 error: 4.37230438827298e+120\n",
      "epoch:50 error: 3.0378807139986114e+150\n",
      "epoch:60 error: 2.1107220387577006e+180\n",
      "epoch:70 error: 1.4665314225038683e+210\n",
      "epoch:80 error: 1.0189472482397751e+240\n",
      "epoch:90 error: 7.079653928742725e+269\n",
      "epoch:100 error: 4.9189494193489174e+299\n"
     ]
    }
   ],
   "source": [
    "#lr 0.8, epochs 100\n",
    "linear_regression(x,y,100,0.8,10)"
   ]
  },
  {
   "cell_type": "markdown",
   "metadata": {},
   "source": [
    "<img alt=\"Experimento 1\" src=\"images/1.png\" />\n",
    "\n",
    "Como se puede observar en el primer resultado del experimento, el error incrementa conforme se avanza en las iteraciones por lo que el learning rate escogido es muy grande. \n",
    "\n",
    "Para el siguiente experimento se disminuirá el lr esperando que el error disminuya."
   ]
  },
  {
   "cell_type": "code",
   "execution_count": 10,
   "metadata": {},
   "outputs": [
    {
     "name": "stdout",
     "output_type": "stream",
     "text": [
      "epoch:10 error: 7288476744253.572\n",
      "epoch:20 error: 2.654298312445766e+22\n",
      "epoch:30 error: 9.666353862442658e+31\n",
      "epoch:40 error: 3.520267354872502e+41\n",
      "epoch:50 error: 1.2820017171034441e+51\n",
      "epoch:60 error: 4.6687601735173214e+60\n",
      "epoch:70 error: 1.7002568145595184e+70\n",
      "epoch:80 error: 6.191950599334789e+79\n",
      "epoch:90 error: 2.254968302217038e+89\n",
      "epoch:100 error: 8.21208432210344e+98\n"
     ]
    }
   ],
   "source": [
    "#lr 0.1, epochs 100\n",
    "linear_regression(x,y,100,0.1,10)"
   ]
  },
  {
   "cell_type": "markdown",
   "metadata": {},
   "source": [
    "<img alt=\"Experimento 2\" src=\"images/2.png\" />\n",
    "\n",
    "Se puede observar el el error comienza a incrementar a partir de las 30 iteraciones, sin embargo, si vemos el último valor obtenido, el error es menor que el último error obtenido.\n",
    "\n",
    "Para el siguiente experimento se disminuirá nuevamente el lr esperando que el error disminuya."
   ]
  },
  {
   "cell_type": "code",
   "execution_count": 11,
   "metadata": {},
   "outputs": [
    {
     "name": "stdout",
     "output_type": "stream",
     "text": [
      "epoch:10 error: 20602.521536667417\n",
      "epoch:20 error: 21883.91539002882\n",
      "epoch:30 error: 23252.90696282639\n",
      "epoch:40 error: 24715.338985641516\n",
      "epoch:50 error: 26277.450587668576\n",
      "epoch:60 error: 27945.903875057462\n",
      "epoch:70 error: 29727.81230592088\n",
      "epoch:80 error: 31630.77098277524\n",
      "epoch:90 error: 33662.88899133415\n",
      "epoch:100 error: 35832.82392326839\n"
     ]
    }
   ],
   "source": [
    "#lr 0.05, epochs 100\n",
    "linear_regression(x,y,100,0.05,10)"
   ]
  },
  {
   "cell_type": "markdown",
   "metadata": {},
   "source": [
    "<img alt=\"Experimento 3\" src=\"images/3.png\" />\n",
    "\n",
    "Nuevamente el error empieza a incrementar a partir de cierto punto por lo que el learning rate todavía es muy grande, sin embargo, se puede observar que el crecimiento es menor por lo que haremos una pequeña disminución del error en el siguiente experimento."
   ]
  },
  {
   "cell_type": "code",
   "execution_count": 12,
   "metadata": {},
   "outputs": [
    {
     "name": "stdout",
     "output_type": "stream",
     "text": [
      "epoch:10 error: 10630.65658153117\n",
      "epoch:20 error: 5759.733502762275\n",
      "epoch:30 error: 3453.3536089654\n",
      "epoch:40 error: 2358.760115209254\n",
      "epoch:50 error: 1836.8701142588802\n",
      "epoch:60 error: 1585.756370211648\n",
      "epoch:70 error: 1462.771849048464\n",
      "epoch:80 error: 1400.5174294614976\n",
      "epoch:90 error: 1367.1431882269403\n",
      "epoch:100 error: 1347.5938380611099\n"
     ]
    }
   ],
   "source": [
    "#lr 0.049, epochs 100\n",
    "linear_regression(x,y,100,0.049,10)"
   ]
  },
  {
   "cell_type": "markdown",
   "metadata": {},
   "source": [
    "<img alt=\"Experimento 4\" src=\"images/4.png\" />\n",
    "\n",
    "Finalmente se ha encontrado un learning rate que no incrementa el error al incrementar las iteraciones, observando la curva de error obtenida, se puede apreciar la efectividad del gradiente descendente ya que se comienza con un error bastante grande pero en las primeras 30 iteraciones disminuye de gran manera y a partir de allí el error disminuye poco a poco.\n",
    "\n",
    "Para el siguiente experimento se utilizará un learning rate más bajo para validar si se tiene un mejor error."
   ]
  },
  {
   "cell_type": "code",
   "execution_count": 13,
   "metadata": {},
   "outputs": [
    {
     "name": "stdout",
     "output_type": "stream",
     "text": [
      "epoch:10 error: 1428.621318236252\n",
      "epoch:20 error: 1424.479865308545\n",
      "epoch:30 error: 1422.1621322921783\n",
      "epoch:40 error: 1419.866477287337\n",
      "epoch:50 error: 1417.5926267617533\n",
      "epoch:60 error: 1415.3403736109176\n",
      "epoch:70 error: 1413.1095126997097\n",
      "epoch:80 error: 1410.8998408414168\n",
      "epoch:90 error: 1408.7111567792233\n",
      "epoch:100 error: 1406.5432611678807\n"
     ]
    }
   ],
   "source": [
    "#lr 0.01, epochs 100\n",
    "linear_regression(x,y,100,0.01,10)"
   ]
  },
  {
   "cell_type": "markdown",
   "metadata": {},
   "source": [
    "<img alt=\"Experimento 5\" src=\"images/5.png\" />\n",
    "\n",
    "Esta vez hemos obtenido un comportamiento similar al experimento anterior con un error levemente mayor, por lo cual podemos decir que el learning rate es muy bajo y con la misma cantidad de iteraciones, este se queda en un error más bajo.\n",
    "\n",
    "Para confirmar los resultados obtenidos en el experimento anterior se realizará nuevamente el experimento con un lr más bajo."
   ]
  },
  {
   "cell_type": "code",
   "execution_count": 14,
   "metadata": {},
   "outputs": [
    {
     "name": "stdout",
     "output_type": "stream",
     "text": [
      "epoch:10 error: 10094.468145327142\n",
      "epoch:20 error: 5253.563423040175\n",
      "epoch:30 error: 3116.6490403030793\n",
      "epoch:40 error: 2173.280032532253\n",
      "epoch:50 error: 1756.743806349415\n",
      "epoch:60 error: 1572.7524580619684\n",
      "epoch:70 error: 1491.4068809715511\n",
      "epoch:80 error: 1455.3694212739204\n",
      "epoch:90 error: 1439.3311554821476\n",
      "epoch:100 error: 1432.1206880229308\n"
     ]
    }
   ],
   "source": [
    "#lr 0.001, epochs 100\n",
    "linear_regression(x,y,100,0.001,10)"
   ]
  },
  {
   "cell_type": "markdown",
   "metadata": {},
   "source": [
    "<img alt=\"Experimento 6\" src=\"images/6.png\" />\n",
    "\n",
    "Con esto confirmamos las hipotesis realizada, el learning rate es muy bajo para 100 iteraciones por lo que al disminuirlo, se obtiene un error mayor.\n",
    "\n",
    "En este experimento se disminuirá nuevamente el learning rate para validar que tan lento decrece el error."
   ]
  },
  {
   "cell_type": "code",
   "execution_count": 16,
   "metadata": {},
   "outputs": [
    {
     "name": "stdout",
     "output_type": "stream",
     "text": [
      "epoch:10 error: 18258.451722429138\n",
      "epoch:20 error: 16959.983372981675\n",
      "epoch:30 error: 15761.693620638041\n",
      "epoch:40 error: 14655.853409788304\n",
      "epoch:50 error: 13635.330002835506\n",
      "epoch:60 error: 12693.54097261203\n",
      "epoch:70 error: 11824.411744408157\n",
      "epoch:80 error: 11022.336413750658\n",
      "epoch:90 error: 10282.141587198059\n",
      "epoch:100 error: 9599.053012918552\n"
     ]
    }
   ],
   "source": [
    "#lr 0.0001, epochs 100\n",
    "linear_regression(x,y,100,0.0001,10)"
   ]
  },
  {
   "cell_type": "markdown",
   "metadata": {},
   "source": [
    "<img alt=\"Experimento 7\" src=\"images/7.png\" />\n",
    "\n",
    "Con este resultado podemos concluír que el lr 0.0001 es muy bajo ya que con 100 iteraciones este no llega a converger, obteniendo un error bastante alto.\n",
    "\n",
    "Ya que hemos experimentado con diferentes learning rate, se procederá a utilizar un lr de 0.001 que dio buenos resultados y se realizarán más iteraciones, esperando que el error sea aún menor que con 100 epochs."
   ]
  },
  {
   "cell_type": "code",
   "execution_count": 17,
   "metadata": {},
   "outputs": [
    {
     "name": "stdout",
     "output_type": "stream",
     "text": [
      "epoch:100 error: 1432.1206880229308\n",
      "epoch:200 error: 1424.2728454219214\n",
      "epoch:300 error: 1421.956104939894\n",
      "epoch:400 error: 1419.6628965028528\n",
      "epoch:500 error: 1417.3914650808324\n",
      "epoch:600 error: 1415.141603446656\n",
      "epoch:700 error: 1412.9131067708877\n",
      "epoch:800 error: 1410.705772169294\n",
      "epoch:900 error: 1408.519398684262\n",
      "epoch:1000 error: 1406.353787266486\n"
     ]
    }
   ],
   "source": [
    "#lr 0.001, epochs 1000\n",
    "linear_regression(x,y,1000,0.001,100)"
   ]
  },
  {
   "cell_type": "markdown",
   "metadata": {},
   "source": [
    "<img alt=\"Experimento 8\" src=\"images/8.png\" />\n",
    "\n",
    "Tal como se supuso, al tener más iteraciones se ha obenido un error menor, a partir de las 70 iteraciones el modelo converge y el error disminuye lentamente.\n",
    "\n",
    "Probaremos con 10,000 iteraciones esperando a que el error disminuya."
   ]
  },
  {
   "cell_type": "code",
   "execution_count": 18,
   "metadata": {},
   "outputs": [
    {
     "name": "stdout",
     "output_type": "stream",
     "text": [
      "epoch:1000 error: 1406.353787266486\n",
      "epoch:2000 error: 1385.797124620955\n",
      "epoch:3000 error: 1367.111207634297\n",
      "epoch:4000 error: 1350.1257903195788\n",
      "epoch:5000 error: 1334.686119814719\n",
      "epoch:6000 error: 1320.6515264407867\n",
      "epoch:7000 error: 1307.8941420711112\n",
      "epoch:8000 error: 1296.2977351343836\n",
      "epoch:9000 error: 1285.7566516375302\n",
      "epoch:10000 error: 1276.1748525601176\n"
     ]
    }
   ],
   "source": [
    "#lr 0.001, epochs 10000\n",
    "linear_regression(x,y,10000,0.001,1000)"
   ]
  },
  {
   "cell_type": "markdown",
   "metadata": {},
   "source": [
    "<img alt=\"Experimento 9\" src=\"images/9.png\" />\n",
    "\n",
    "Se confirma que se ha obtenido un mejor error con más iteraciones por lo que se realizará un último experimento con 100,000 iteraciones esperando obtener como resultado un menor error."
   ]
  },
  {
   "cell_type": "code",
   "execution_count": 19,
   "metadata": {},
   "outputs": [
    {
     "name": "stdout",
     "output_type": "stream",
     "text": [
      "epoch:10000 error: 1276.1748525601176\n",
      "epoch:20000 error: 1217.3279888453515\n",
      "epoch:30000 error: 1194.6637370956987\n",
      "epoch:40000 error: 1185.9348384773891\n",
      "epoch:50000 error: 1182.572994815823\n",
      "epoch:60000 error: 1181.278216024246\n",
      "epoch:70000 error: 1180.7795455660428\n",
      "epoch:80000 error: 1180.5874878744123\n",
      "epoch:90000 error: 1180.513518870818\n",
      "epoch:100000 error: 1180.4850304856554\n"
     ]
    }
   ],
   "source": [
    "#lr 0.001, epochs 100000\n",
    "linear_regression(x,y,100000,0.001,10000)"
   ]
  },
  {
   "cell_type": "markdown",
   "metadata": {},
   "source": [
    "<img alt=\"Experimento 10\" src=\"images/10.png\" />\n",
    "\n",
    "Tal como se esperaba, se ha obtenido un error menor al incrementar nuevamente las iteraciones.\n",
    "\n",
    "### Conclusiones\n",
    "\n",
    "- El uso de gradiente descendente nos ayuda optimizar la búsqueda de los coeficientes que nos permitan realizar un modelo de predicción en vez de hacerlo por medio de fuerza bruta, lo cual consumiría más tiempo y recursos.\n",
    "\n",
    "\n",
    "- Debido a que encontrar el learning rate o iteraciones necesarias para obtener un modelo con un error o costo aceptable, requiere realizar pruebas manualmente, es importante tener herramientas que nos den ese feedback para saber si estamos utilizando los valores adecuados de las funciones, en este caso Tensorboard es una excelente herramienta en nuestro arsenal para este tipo de experimentos ya que nos permite mostrar en tiempo real los resultados obtenidos durante la prueba de nuestro modelo.\n",
    "\n",
    "\n",
    "- Otra de las ventajas que nos brinda Tensorboard es que puede almacenar el registro de diferentes corridas del modelo, y nos permite visualizar en una misma gráfica más de un registro a la vez, permitiendonos hacer comparaciones, tal como en la gráfica mostrada a continuación, permitiendonos evaluar cuales parametros son más convenientes para el entrenamiento del modelo."
   ]
  },
  {
   "cell_type": "markdown",
   "metadata": {},
   "source": [
    "<img alt=\"Resumen\" src=\"images/summary.png\" />"
   ]
  }
 ],
 "metadata": {
  "kernelspec": {
   "display_name": "Python 3",
   "language": "python",
   "name": "python3"
  },
  "language_info": {
   "codemirror_mode": {
    "name": "ipython",
    "version": 3
   },
   "file_extension": ".py",
   "mimetype": "text/x-python",
   "name": "python",
   "nbconvert_exporter": "python",
   "pygments_lexer": "ipython3",
   "version": "3.8.1"
  }
 },
 "nbformat": 4,
 "nbformat_minor": 4
}
